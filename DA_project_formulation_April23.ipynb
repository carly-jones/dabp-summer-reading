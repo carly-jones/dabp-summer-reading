{
 "cells": [
  {
   "cell_type": "markdown",
   "metadata": {},
   "source": [
    "# The Allegheny County Summer Reading Program, May 2021"
   ]
  },
  {
   "cell_type": "markdown",
   "metadata": {},
   "source": [
    "**Group member names:** Hui-Chen Betty Liu, Carly Jones, Emily Reece, Michelle Degutis  \n",
    "**Group member andrewIDs:** huichenl, carlyjon, ejreece, mdegutis"
   ]
  },
  {
   "cell_type": "markdown",
   "metadata": {},
   "source": [
    "## Notebook Overview\n",
    "This notebook focuses on two objectives for the Allegheny County Summer Reading Program:  \n",
    "    1. Minimize the total/weighted travel distance of the population served\n",
    "    2. Minimize the travel distance for any child eligible to participate in the program\n",
    "In addition to the objectives above, the notebook explores optimal solutions for different program scenarios including:\n",
    "    1. Scenario 1\n",
    "    2. Scenario 2"
   ]
  },
  {
   "cell_type": "markdown",
   "metadata": {},
   "source": [
    "### Overview of files and variables required\n",
    "Age_group: 6-8 years\n",
    "\n",
    "Files we need\n",
    "1. Dist: tract_euclidean_distance.csv (402 tracts total)\n",
    "2. Population: census_var_tract \n",
    "\n",
    "1st implementation: Min overall distance\n",
    "Objective: Minimize total distance traveled for kiddos (utility)\n",
    "Constraints:\n",
    "1. Tract can only be assigned if library is in use\n",
    "2. All tracts must be assigned to one and only one library (sum=402)\n",
    "3. Capacity: each library site selected must be assigned greater than L # students - this will enforce the number of libraries selected (so presumably, we won't really need an additional constaint for that)\n",
    "4. Assumption we made: 75% of students from each tract will actually use the program\n",
    "5. Question/consideration: how many staffers on site for the number of students? Etc etc\n",
    "6. Considerations about how many students actually remain on site vs. others who show up/leave, etc.\n",
    "7. Arrival distribution considerations (future work...)\n",
    "\n",
    "\n",
    "\n",
    "2nd implementation: Equity (minimax)\n",
    "\n",
    "Questions for group:\n",
    "1. Do we need a constraint on the number of libraries overall, if we have the min capacity constaint implemented?"
   ]
  },
  {
   "cell_type": "code",
   "execution_count": 79,
   "metadata": {},
   "outputs": [],
   "source": [
    "# Import necessary libraries\n",
    "from gurobipy import *\n",
    "import csv\n",
    "import os\n",
    "import numpy as np\n",
    "import pandas as pd\n",
    "import matplotlib.pyplot as plt"
   ]
  },
  {
   "cell_type": "markdown",
   "metadata": {},
   "source": [
    "## Read in & Process Data"
   ]
  },
  {
   "cell_type": "markdown",
   "metadata": {},
   "source": [
    "### Distance Data"
   ]
  },
  {
   "cell_type": "code",
   "execution_count": 58,
   "metadata": {},
   "outputs": [
    {
     "name": "stdout",
     "output_type": "stream",
     "text": [
      "Total tract areas: 402\n",
      "Total potential libraries: 149\n"
     ]
    }
   ],
   "source": [
    "# Create a 2D 402x149 array representing the euclidean distance from each tract area to each library\n",
    "tract_distance = np.genfromtxt(\"tract_euclidean_distance.csv\", dtype=np.float, delimiter=',', encoding='utf-8-sig')\n",
    "tract_dist = tract_distance[1:,1:]\n",
    "num_tracts, num_libs = tract_dist.shape\n",
    "\n",
    "# Print the total number of tract areas and libraries\n",
    "print('Total tract areas: ' + str(num_tracts))\n",
    "print('Total potential libraries: ' + str(num_libs))"
   ]
  },
  {
   "cell_type": "markdown",
   "metadata": {},
   "source": [
    "### Population Data"
   ]
  },
  {
   "cell_type": "code",
   "execution_count": 59,
   "metadata": {},
   "outputs": [],
   "source": [
    "# Create a vector of size 402 representing the total number of eligible students in each tract area\n",
    "census_var_tract = pd.read_csv(\"census_vars_tract.csv\")\n",
    "tract_population = census_var_tract['est_total_pop_u18_in_households_6to8yrs']\n",
    "tract_pop = np.array(tract_population)\n",
    "\n",
    "# Calculate the total population of eligible students throughout the county\n",
    "overall_pop = tract_pop.sum()"
   ]
  },
  {
   "cell_type": "code",
   "execution_count": 60,
   "metadata": {},
   "outputs": [
    {
     "name": "stdout",
     "output_type": "stream",
     "text": [
      "If we utilize 50% of libraries, each library will need to serve an average of 363 kids.\n"
     ]
    }
   ],
   "source": [
    "# Estimate how many students each library will need to serve\n",
    "# Estimate dependent on the number of libraries selected for the program\n",
    "\n",
    "percent_libs_selected = 0.5 # the percent of libraries we expect to use\n",
    "num_libs_selected = int(num_libs*percent_libs_selected) # the number of libraries we expect to use\n",
    "percent_expected = 0.75 # the percent of eligible students we expect to participate\n",
    "min_per_site = int((overall_pop*.75)/75) # estimated average number of students each library must serve\n",
    "\n",
    "# Print the estimated average number of students each selected library must serve\n",
    "print('If we utilize ' + str(int(op_portion*100)) + '% of libraries, each library will need to serve an average of ' + str(min_per_site) + ' kids.') "
   ]
  },
  {
   "cell_type": "markdown",
   "metadata": {},
   "source": [
    "## Objective 1: Minimize the total travel distance of the population served\n",
    "### Step 1.1: Instantiate Model (m1), Define Indices, & Set Up Objective Function"
   ]
  },
  {
   "cell_type": "code",
   "execution_count": 61,
   "metadata": {},
   "outputs": [],
   "source": [
    "# Indices for tract areas and libraries\n",
    "tract_areas = range(402)\n",
    "library_sites = range(149)\n",
    "\n",
    "# min capacity for libraries\n",
    "min_capacity = 100\n",
    "\n",
    "# Set up model object\n",
    "m1 = Model()\n",
    "\n",
    "# Define variables and variable bounds\n",
    "y = m1.addVars(tract_areas, library_sites, vtype=GRB.BINARY) # whether tract area [i] is assigned to library [j]\n",
    "x = m1.addVars(library_sites, vtype=GRB.BINARY) # whether library [j] is selected for the program\n",
    "\n",
    "# Set up objective function\n",
    "m1.modelSense = GRB.MINIMIZE \n",
    "m1.setObjective(sum(sum(percent_expected*tract_pop[i] * tract_dist[i,j] * y[i,j] for j in library_sites) for i in tract_areas))"
   ]
  },
  {
   "cell_type": "markdown",
   "metadata": {},
   "source": [
    "### Step 1.2: Define Constraints"
   ]
  },
  {
   "cell_type": "code",
   "execution_count": 62,
   "metadata": {},
   "outputs": [],
   "source": [
    "# Constraint for minimum capacity of libraries selected\n",
    "for j in library_sites :\n",
    "    m1.addConstr(sum(percent_expected*tract_pop[i]*y[i,j] for i in tract_areas) >= min_capacity)\n",
    "    \n",
    "# Constaints for number of shelters allowed to be built\n",
    "#m.addConstr(sum(x[j] for j in shelt_areas) <= 10) # double check this one?\n",
    "\n",
    "# Constraint to ensure that tract area cannot be assigned to library unless library is selected\n",
    "for i in tract_areas:\n",
    "    for j in library_sites:\n",
    "        m1.addConstr(y[i,j] <= x[j])\n",
    "\n",
    "# Constraint to ensure tract area can only be assigned to one library site\n",
    "for i in tract_areas:\n",
    "    m1.addConstr(sum(y[i,j] for j in library_sites)==1)    "
   ]
  },
  {
   "cell_type": "markdown",
   "metadata": {},
   "source": [
    "### Step 1.3: Run Model"
   ]
  },
  {
   "cell_type": "code",
   "execution_count": 66,
   "metadata": {},
   "outputs": [
    {
     "name": "stdout",
     "output_type": "stream",
     "text": [
      "Gurobi Optimizer version 9.1.1 build v9.1.1rc0 (win64)\n",
      "Thread count: 4 physical cores, 8 logical processors, using up to 8 threads\n",
      "Optimize a model with 60449 rows, 60047 columns and 235122 nonzeros\n",
      "Model fingerprint: 0x67c3716a\n",
      "Variable types: 0 continuous, 60047 integer (60047 binary)\n",
      "Coefficient statistics:\n",
      "  Matrix range     [1e+00, 4e+02]\n",
      "  Objective range  [9e-03, 2e+02]\n",
      "  Bounds range     [1e+00, 1e+00]\n",
      "  RHS range        [1e+00, 1e+02]\n",
      "Presolved: 521 rows, 55428 columns, 110856 nonzeros\n",
      "\n",
      "Continuing optimization...\n",
      "\n",
      "\n",
      "Cutting planes:\n",
      "  Gomory: 11\n",
      "  Cover: 107\n",
      "  MIR: 172\n",
      "  StrongCG: 138\n",
      "  Flow cover: 82\n",
      "  Inf proof: 1\n",
      "  Zero half: 6\n",
      "  RLT: 20\n",
      "\n",
      "Explored 15878 nodes (782038 simplex iterations) in 0.05 seconds\n",
      "Thread count was 8 (of 8 available processors)\n",
      "\n",
      "Solution count 10: 478.401 478.401 478.421 ... 479.997\n",
      "\n",
      "Optimal solution found (tolerance 1.00e-04)\n",
      "Best objective 4.784005401069e+02, best bound 4.783530684449e+02, gap 0.0099%\n",
      "\n",
      "Total distance across all expected program participants: 478.4005401069369\n",
      "\n"
     ]
    }
   ],
   "source": [
    "# Solve & print optimal solution\n",
    "m1.optimize()\n",
    "print()\n",
    "print('Total distance across all expected program participants:',m1.objVal)\n",
    "print()"
   ]
  },
  {
   "cell_type": "code",
   "execution_count": 106,
   "metadata": {},
   "outputs": [
    {
     "name": "stdout",
     "output_type": "stream",
     "text": [
      "The summer reading program utilizes 149 libraries under objective #1.\n"
     ]
    }
   ],
   "source": [
    "# Create a 2D array of size 402x149 showing what tract area is assigned to what library\n",
    "libraries_assigned_m1 = np.array([y[i,j].x for i in tract_areas for j in library_sites]).reshape(num_tracts,num_libs)\n",
    "\n",
    "# Count and print how many libraries are in use under objective 1\n",
    "num_tracts_assigned_to_libs_m1 = libraries_assigned_m1.sum(axis=0)\n",
    "libs_in_use_m1 = np.count_nonzero(num_tracts_assigned_to_libs_m1)\n",
    "print('The summer reading program utilizes ' + str(libs_in_use_m1) + ' libraries under objective #1.')"
   ]
  },
  {
   "cell_type": "markdown",
   "metadata": {},
   "source": [
    "### Step 1.4: Visualize & Interpret Model Solution"
   ]
  },
  {
   "cell_type": "code",
   "execution_count": 68,
   "metadata": {},
   "outputs": [
    {
     "data": {
      "image/png": "[encoded data removed]",
      "text/plain": [
       "<Figure size 432x288 with 1 Axes>"
      ]
     },
     "metadata": {
      "needs_background": "light"
     },
     "output_type": "display_data"
    }
   ],
   "source": [
    "# Create histogram of the distance to the assigned libraries across all tract areas\n",
    "assignments = []\n",
    "for i in tract_areas:\n",
    "    for j in library_sites:\n",
    "        assignments.append(y[i,j].x)\n",
    "assignments=np.array(assignments)\n",
    "assignments=np.reshape(assignments, (num_tracts,num_libs))\n",
    "assignedDistances = tract_dist*assignments\n",
    "assignedDistances = np.sum(assignedDistances, axis=1)\n",
    "assignedDistances1 = assignedDistances[assignedDistances!=0]\n",
    "\n",
    "\n",
    "fig1 = plt.figure()\n",
    "plt.hist(assignedDistances1, bins = [0,.2,.3,.4], rwidth = 0.9, color = 'Blue')\n",
    "plt.xlabel(\"Distance to Assigned Libraries (binned)\")\n",
    "plt.ylabel(\"Count of Tract Areas\") \n",
    "plt.title(\"Objective 1: Distance to Assigned Libraries Across All Tract Areas\") \n",
    "plt.show()"
   ]
  },
  {
   "cell_type": "markdown",
   "metadata": {},
   "source": [
    "## Objective 2: Minimize the maximum travel distance for any program participant\n",
    "### Step 2.1: Instantiate Model (m2), Define Indices, & Set Up Objective Function"
   ]
  },
  {
   "cell_type": "code",
   "execution_count": 69,
   "metadata": {},
   "outputs": [],
   "source": [
    "m2 = Model() # Set up model object\n",
    "\n",
    "y2 = m2.addVars(tract_areas, library_sites, vtype=GRB.BINARY) # whether tract area [i] is assigned to library [j]\n",
    "x2 = m2.addVars(library_sites, vtype=GRB.BINARY) # whether library [j] is selected for the program\n",
    "\n",
    "# define our new somewhat arbitrary decision variable, L\n",
    "L = m2.addVars(1) \n",
    "\n",
    "m2.setObjective(L[0], GRB.MINIMIZE)"
   ]
  },
  {
   "cell_type": "markdown",
   "metadata": {},
   "source": [
    "### Step 2.2: Define Constraints"
   ]
  },
  {
   "cell_type": "code",
   "execution_count": 70,
   "metadata": {},
   "outputs": [],
   "source": [
    "# Constraint that ensures we choose the smallest L possible (minimax)\n",
    "for i in tract_areas:\n",
    "    for j in library_sites:\n",
    "        m2.addConstr(y2[i,j]*tract_dist[i,j] <= L[0])\n",
    "\n",
    "# Constraint for minimum capacity of libraries selected\n",
    "for j in library_sites :\n",
    "    m2.addConstr(sum(percent_expected*tract_pop[i]*y2[i,j] for i in tract_areas) >= min_capacity)\n",
    "    \n",
    "# Constaints for number of shelters allowed to be built\n",
    "#m.addConstr(sum(x[j] for j in shelt_areas) <= 10) # double check this one?\n",
    "\n",
    "# Constraint to ensure that tract area cannot be assigned to library unless library is selected\n",
    "for i in tract_areas:\n",
    "    for j in library_sites:\n",
    "        m2.addConstr(y2[i,j] <= x2[j])\n",
    "\n",
    "# Constraint to ensure tract area can only be assigned to one library site\n",
    "for i in tract_areas:\n",
    "    m2.addConstr(sum(y2[i,j] for j in library_sites)==1)  "
   ]
  },
  {
   "cell_type": "markdown",
   "metadata": {},
   "source": [
    "### Step 2.3: Run Model"
   ]
  },
  {
   "cell_type": "code",
   "execution_count": 74,
   "metadata": {},
   "outputs": [
    {
     "name": "stdout",
     "output_type": "stream",
     "text": [
      "Gurobi Optimizer version 9.1.1 build v9.1.1rc0 (win64)\n",
      "Thread count: 4 physical cores, 8 logical processors, using up to 8 threads\n",
      "Optimize a model with 120347 rows, 60048 columns and 354918 nonzeros\n",
      "Model fingerprint: 0xe6edd36b\n",
      "Variable types: 1 continuous, 60047 integer (60047 binary)\n",
      "Coefficient statistics:\n",
      "  Matrix range     [3e-04, 4e+02]\n",
      "  Objective range  [1e+00, 1e+00]\n",
      "  Bounds range     [1e+00, 1e+00]\n",
      "  RHS range        [1e+00, 1e+02]\n",
      "Presolved: 60046 rows, 59889 columns, 234443 nonzeros\n",
      "\n",
      "Continuing optimization...\n",
      "\n",
      "\n",
      "Cutting planes:\n",
      "  Cover: 7\n",
      "  MIR: 33\n",
      "  StrongCG: 10\n",
      "  RLT: 55\n",
      "\n",
      "Explored 1 nodes (72564 simplex iterations) in 0.03 seconds\n",
      "Thread count was 8 (of 8 available processors)\n",
      "\n",
      "Solution count 10: 0.0730282 0.094132 0.128094 ... 0.408493\n",
      "\n",
      "Optimal solution found (tolerance 1.00e-04)\n",
      "Best objective 7.302823100000e-02, best bound 7.302823100000e-02, gap 0.0000%\n",
      "\n",
      "Largest distance between tract areas and libraries: 0.073028231\n",
      "\n"
     ]
    }
   ],
   "source": [
    "# Solve & print optimal solution\n",
    "m2.optimize()\n",
    "print()\n",
    "print('Largest distance between tract areas and libraries:',m2.objVal)\n",
    "print()"
   ]
  },
  {
   "cell_type": "code",
   "execution_count": 107,
   "metadata": {},
   "outputs": [
    {
     "name": "stdout",
     "output_type": "stream",
     "text": [
      "The summer reading program utilizes 149 libraries under objective #2.\n"
     ]
    }
   ],
   "source": [
    "# Create a 2D array of size 402x149 showing what tract area is assigned to what library\n",
    "libraries_assigned_m2 = np.array([y[i,j].x for i in tract_areas for j in library_sites]).reshape(num_tracts,num_libs)\n",
    "\n",
    "# Count and print how many libraries are in use under objective 2\n",
    "num_tracts_assigned_to_libs_m2 = libraries_assigned_m2.sum(axis=0)\n",
    "libs_in_use_m2 = np.count_nonzero(num_tracts_assigned_to_libs_m2)\n",
    "print('The summer reading program utilizes ' + str(libs_in_use_m2) + ' libraries under objective #2.')"
   ]
  },
  {
   "cell_type": "markdown",
   "metadata": {},
   "source": [
    "### Step 2.4: Visualize & Interpret Model Solution"
   ]
  },
  {
   "cell_type": "code",
   "execution_count": 76,
   "metadata": {},
   "outputs": [
    {
     "data": {
      "image/png": "[encoded data removed]",
      "text/plain": [
       "<Figure size 432x288 with 1 Axes>"
      ]
     },
     "metadata": {
      "needs_background": "light"
     },
     "output_type": "display_data"
    }
   ],
   "source": [
    "# Create histogram of the distance to the assigned libraries across all tract areas\n",
    "assignments = []\n",
    "for i in tract_areas:\n",
    "    for j in library_sites:\n",
    "        assignments.append(y2[i,j].x)\n",
    "assignments=np.array(assignments)\n",
    "assignments=np.reshape(assignments, (num_tracts,num_libs))\n",
    "assignedDistances = tract_dist*assignments\n",
    "assignedDistances = np.sum(assignedDistances, axis=1)\n",
    "assignedDistances2 = assignedDistances[assignedDistances!=0]\n",
    "\n",
    "fig2 = plt.figure()\n",
    "plt.hist(assignedDistances2, bins = [0,.2,.3,.4], rwidth = 0.9, color = 'Orange')\n",
    "plt.xlabel(\"Distance to Assigned Libraries (binned)\")\n",
    "plt.ylabel(\"Count of Tract Areas\") \n",
    "plt.title(\"Objective 2: Distance to Assigned Libraries Across All Tract Areas\") \n",
    "plt.show()"
   ]
  },
  {
   "cell_type": "markdown",
   "metadata": {},
   "source": [
    "## Comparing Solutions: Objective 1 (Utility) vs. Objective 2 (Equity)"
   ]
  },
  {
   "cell_type": "code",
   "execution_count": 77,
   "metadata": {},
   "outputs": [],
   "source": [
    "model1_distances = (libraries_assigned_m1*tract_dist).sum(axis=1)\n",
    "model2_distances = (libraries_assigned_m2*tract_dist).sum(axis=1)"
   ]
  },
  {
   "cell_type": "code",
   "execution_count": 81,
   "metadata": {},
   "outputs": [
    {
     "data": {
      "image/png": "[encoded data removed]",
      "text/plain": [
       "<Figure size 720x144 with 1 Axes>"
      ]
     },
     "metadata": {
      "needs_background": "light"
     },
     "output_type": "display_data"
    }
   ],
   "source": [
    "bins = np.arange(0,0.4, 0.2).tolist()\n",
    "\n",
    "plt.hist(model1_distances, bins, alpha=0.5, label='model1')\n",
    "plt.hist(model2_distances, bins, alpha=0.5, label='model2')\n",
    "plt.legend(loc='upper right')\n",
    "plt.title('Distance Between Tract Areas and Assigned Library', fontsize=14)\n",
    "plt.xlabel('Miles', fontsize=12)\n",
    "plt.ylabel('Count', fontsize=12)\n",
    "plt.rcParams[\"figure.figsize\"] = (10,2)\n",
    "plt.show()"
   ]
  },
  {
   "cell_type": "markdown",
   "metadata": {},
   "source": [
    "## Dealing with Different Scenarios\n",
    "The following models use the same objectives described above under 3 different scenarios:\n",
    "    1. Focus soley on low-income tract areas\n",
    "    2. Vary minimum library capacity\n",
    "    3. Vary expected percent of participating students"
   ]
  },
  {
   "cell_type": "markdown",
   "metadata": {},
   "source": [
    "### Scenario 1: Rerun the Second Objective (m2) Focusing Soley on Low-Income Tracts"
   ]
  },
  {
   "cell_type": "code",
   "execution_count": 109,
   "metadata": {},
   "outputs": [],
   "source": [
    "# run m2 with a subset of tracts (pick bottom 50% tracks based on income)"
   ]
  },
  {
   "cell_type": "markdown",
   "metadata": {},
   "source": [
    "### Scenario 2: Rerun the First Objective (m1) Varying Minimum Library Capacity"
   ]
  },
  {
   "cell_type": "code",
   "execution_count": 110,
   "metadata": {},
   "outputs": [],
   "source": [
    "# run m1 with various min library capacities (variable name = min_capacity)"
   ]
  },
  {
   "cell_type": "markdown",
   "metadata": {},
   "source": [
    "### Scenario 3: Rerun the First Objective (m1) Varying the Expected Percent of Participating Students"
   ]
  },
  {
   "cell_type": "code",
   "execution_count": 111,
   "metadata": {},
   "outputs": [],
   "source": [
    "# run m1 with various expected number of participating students (variable name = percent_expected)"
   ]
  }
 ],
 "metadata": {
  "kernelspec": {
   "display_name": "Python 3",
   "language": "python",
   "name": "python3"
  },
  "language_info": {
   "codemirror_mode": {
    "name": "ipython",
    "version": 3
   },
   "file_extension": ".py",
   "mimetype": "text/x-python",
   "name": "python",
   "nbconvert_exporter": "python",
   "pygments_lexer": "ipython3",
   "version": "3.9.2"
  }
 },
 "nbformat": 4,
 "nbformat_minor": 4
}
